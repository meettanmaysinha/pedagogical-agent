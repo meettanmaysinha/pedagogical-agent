{
 "cells": [
  {
   "cell_type": "code",
   "execution_count": 19,
   "metadata": {},
   "outputs": [],
   "source": [
    "import cv2\n",
    "import sounddevice as sd\n",
    "import time"
   ]
  },
  {
   "cell_type": "code",
   "execution_count": 20,
   "metadata": {},
   "outputs": [],
   "source": [
    "import asyncio\n",
    "import nest_asyncio\n",
    "nest_asyncio.apply()\n",
    "from concurrent.futures import ThreadPoolExecutor\n",
    "\n",
    "import pandas as pd\n",
    "import numpy as np\n",
    "import apikey\n",
    "from hume import HumeStreamClient, StreamSocket\n",
    "from hume.models.config import FaceConfig"
   ]
  },
  {
   "cell_type": "code",
   "execution_count": 21,
   "metadata": {},
   "outputs": [],
   "source": [
    "API_KEY = apikey.API_KEY\n",
    "FILE_PATH = \"videos/frustrated_trim.mp4\""
   ]
  },
  {
   "cell_type": "code",
   "execution_count": 22,
   "metadata": {},
   "outputs": [],
   "source": [
    "def sort_emotions(emotions):\n",
    "    # Sort emotions by scores\n",
    "    emotions.sort(key=lambda x: x['score'],reverse=True)\n",
    "    emotions\n",
    "\n",
    "def sort_results(results):\n",
    "    results.apply(lambda x: sort_emotions(x[\"emotions\"]),axis=1)\n",
    "    print(results)"
   ]
  },
  {
   "cell_type": "code",
   "execution_count": 23,
   "metadata": {},
   "outputs": [],
   "source": [
    "def run_in_executor_blocking(func, *args):\n",
    "    loop = asyncio.get_event_loop()\n",
    "    return loop.run_in_executor(ThreadPoolExecutor(), func, *args)\n",
    "    \n",
    "async def humeCall():\n",
    "    print(\"Hume Call Start\")\n",
    "    client = HumeStreamClient(API_KEY)\n",
    "    config = FaceConfig(identify_faces=True)\n",
    "    \n",
    "    async with client.connect([config]) as socket:\n",
    "        result =  await socket.send_file(FILE_PATH)\n",
    "    \n",
    "    print(f\"File Path = {FILE_PATH}\")\n",
    "    \n",
    "\n",
    "    # print(result)\n",
    "    try:\n",
    "        results = result[\"face\"][\"predictions\"]\n",
    "    except:\n",
    "        print(\"No Faces Detected\")\n",
    "        results = {}\n",
    "\n",
    "    # print(results)\n",
    "\n",
    "    global extracted_results\n",
    "    extracted_results = pd.json_normalize(results)\n",
    "        \n",
    "    sort_results(extracted_results)\n",
    "    print(extracted_results)\n",
    "    return extracted_results\n"
   ]
  },
  {
   "cell_type": "code",
   "execution_count": 24,
   "metadata": {},
   "outputs": [],
   "source": [
    "def startWebcam():\n",
    "    # Open the webcam (you may need to change the argument to the appropriate camera index)\n",
    "    cap = cv2.VideoCapture(0)\n",
    "    # Define the codec and create a VideoWriter object\n",
    "    fourcc = cv2.VideoWriter_fourcc('m', 'p', '4', 'v')\n",
    "\n",
    "    videoWidth = int(cap.get(cv2.CAP_PROP_FRAME_WIDTH))\n",
    "    videoHeight = int(cap.get(cv2.CAP_PROP_FRAME_HEIGHT))\n",
    "\n",
    "    return cap, fourcc, videoWidth, videoHeight"
   ]
  },
  {
   "cell_type": "code",
   "execution_count": 25,
   "metadata": {},
   "outputs": [],
   "source": [
    "async def start_video(video_id,fourcc, videoWidth, videoHeight):\n",
    "    return cv2.VideoWriter(f'output_{video_id}.mp4', fourcc, 60.0, (videoWidth, videoHeight))"
   ]
  },
  {
   "cell_type": "code",
   "execution_count": 26,
   "metadata": {},
   "outputs": [],
   "source": [
    "async def process_video(cap, fourcc, videoWidth, videoHeight):\n",
    "    start_time = time.time()\n",
    "    video_id = 0\n",
    "    out = cv2.VideoWriter(f'output_{video_id}.mp4', fourcc, 60.0, (videoWidth, videoHeight))\n",
    "\n",
    "    while cap.isOpened():\n",
    "        ret, frame = cap.read()\n",
    "        out.write(frame)\n",
    "        cv2.imshow('Webcam Feed', frame)\n",
    "\n",
    "        if time.time() - start_time > 5:\n",
    "            out.release()\n",
    "            print(f\"Run: {video_id}\")\n",
    "\n",
    "            global FILE_PATH\n",
    "            FILE_PATH = f\"./output_{video_id}.mp4\"\n",
    "            print(FILE_PATH)\n",
    "            \n",
    "            video_id += 1\n",
    "            start_time = time.time()\n",
    "\n",
    "            humeTask = await asyncio.gather(start_video(video_id, fourcc, videoWidth, videoHeight),humeCall())\n",
    "\n",
    "        \n",
    "            out = humeTask[0]\n",
    "\n",
    "        if cv2.waitKey(1) & 0xFF == ord('q'):\n",
    "            break\n",
    "\n",
    "    cap.release()\n",
    "    out.release()\n",
    "    cv2.destroyAllWindows()\n",
    "\n"
   ]
  },
  {
   "cell_type": "code",
   "execution_count": 27,
   "metadata": {},
   "outputs": [
    {
     "name": "stdout",
     "output_type": "stream",
     "text": [
      "Run: 1\n",
      "./output_1.mp4\n",
      "Hume Call Start\n",
      "File Path = ./output_1.mp4\n",
      "No Faces Detected\n",
      "Empty DataFrame\n",
      "Columns: []\n",
      "Index: [0]\n",
      "Empty DataFrame\n",
      "Columns: []\n",
      "Index: [0]\n"
     ]
    },
    {
     "ename": "CancelledError",
     "evalue": "",
     "output_type": "error",
     "traceback": [
      "\u001b[0;31m---------------------------------------------------------------------------\u001b[0m",
      "\u001b[0;31mCancelledError\u001b[0m                            Traceback (most recent call last)",
      "\u001b[1;32m/Users/chengyao/Documents/GitHub/ureca-pedagogical-agent/WebcamToHumeAI.ipynb Cell 9\u001b[0m line \u001b[0;36m<cell line: 4>\u001b[0;34m()\u001b[0m\n\u001b[1;32m      <a href='vscode-notebook-cell:/Users/chengyao/Documents/GitHub/ureca-pedagogical-agent/WebcamToHumeAI.ipynb#X11sZmlsZQ%3D%3D?line=1'>2</a>\u001b[0m \u001b[39m# Run the event loop\u001b[39;00m\n\u001b[1;32m      <a href='vscode-notebook-cell:/Users/chengyao/Documents/GitHub/ureca-pedagogical-agent/WebcamToHumeAI.ipynb#X11sZmlsZQ%3D%3D?line=2'>3</a>\u001b[0m loop \u001b[39m=\u001b[39m asyncio\u001b[39m.\u001b[39mget_event_loop()\n\u001b[0;32m----> <a href='vscode-notebook-cell:/Users/chengyao/Documents/GitHub/ureca-pedagogical-agent/WebcamToHumeAI.ipynb#X11sZmlsZQ%3D%3D?line=3'>4</a>\u001b[0m loop\u001b[39m.\u001b[39mrun_until_complete(\u001b[39mawait\u001b[39;00m process_video(cap, fourcc, videoWidth, videoHeight))\n",
      "\u001b[1;32m/Users/chengyao/Documents/GitHub/ureca-pedagogical-agent/WebcamToHumeAI.ipynb Cell 9\u001b[0m line \u001b[0;36mprocess_video\u001b[0;34m(cap, fourcc, videoWidth, videoHeight)\u001b[0m\n\u001b[1;32m     <a href='vscode-notebook-cell:/Users/chengyao/Documents/GitHub/ureca-pedagogical-agent/WebcamToHumeAI.ipynb#X11sZmlsZQ%3D%3D?line=18'>19</a>\u001b[0m     video_id \u001b[39m+\u001b[39m\u001b[39m=\u001b[39m \u001b[39m1\u001b[39m\n\u001b[1;32m     <a href='vscode-notebook-cell:/Users/chengyao/Documents/GitHub/ureca-pedagogical-agent/WebcamToHumeAI.ipynb#X11sZmlsZQ%3D%3D?line=19'>20</a>\u001b[0m     start_time \u001b[39m=\u001b[39m time\u001b[39m.\u001b[39mtime()\n\u001b[0;32m---> <a href='vscode-notebook-cell:/Users/chengyao/Documents/GitHub/ureca-pedagogical-agent/WebcamToHumeAI.ipynb#X11sZmlsZQ%3D%3D?line=21'>22</a>\u001b[0m     humeTask \u001b[39m=\u001b[39m \u001b[39mawait\u001b[39;00m asyncio\u001b[39m.\u001b[39mgather(start_video(video_id, fourcc, videoWidth, videoHeight),humeCall())\n\u001b[1;32m     <a href='vscode-notebook-cell:/Users/chengyao/Documents/GitHub/ureca-pedagogical-agent/WebcamToHumeAI.ipynb#X11sZmlsZQ%3D%3D?line=24'>25</a>\u001b[0m     out \u001b[39m=\u001b[39m humeTask[\u001b[39m0\u001b[39m]\n\u001b[1;32m     <a href='vscode-notebook-cell:/Users/chengyao/Documents/GitHub/ureca-pedagogical-agent/WebcamToHumeAI.ipynb#X11sZmlsZQ%3D%3D?line=26'>27</a>\u001b[0m \u001b[39mif\u001b[39;00m cv2\u001b[39m.\u001b[39mwaitKey(\u001b[39m1\u001b[39m) \u001b[39m&\u001b[39m \u001b[39m0xFF\u001b[39m \u001b[39m==\u001b[39m \u001b[39mord\u001b[39m(\u001b[39m'\u001b[39m\u001b[39mq\u001b[39m\u001b[39m'\u001b[39m):\n",
      "\u001b[0;31mCancelledError\u001b[0m: "
     ]
    }
   ],
   "source": [
    "cap, fourcc, videoWidth, videoHeight= startWebcam()\n",
    "# Run the event loop\n",
    "loop = asyncio.get_event_loop()\n",
    "loop.run_until_complete(await process_video(cap, fourcc, videoWidth, videoHeight))\n"
   ]
  }
 ],
 "metadata": {
  "interpreter": {
   "hash": "ed02e7ed1bcaafa023c8ced15e1c3f90199bcc3a9707a8840dd89eccd8f16002"
  },
  "kernelspec": {
   "display_name": "Python 3.9.12 ('base')",
   "language": "python",
   "name": "python3"
  },
  "language_info": {
   "codemirror_mode": {
    "name": "ipython",
    "version": 3
   },
   "file_extension": ".py",
   "mimetype": "text/x-python",
   "name": "python",
   "nbconvert_exporter": "python",
   "pygments_lexer": "ipython3",
   "version": "3.9.12"
  },
  "orig_nbformat": 4
 },
 "nbformat": 4,
 "nbformat_minor": 2
}
