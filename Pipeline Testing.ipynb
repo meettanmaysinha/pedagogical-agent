{
 "cells": [
  {
   "cell_type": "code",
   "execution_count": 1,
   "id": "5f231b68-fe29-459f-92b0-ac124c217703",
   "metadata": {},
   "outputs": [
    {
     "ename": "SyntaxError",
     "evalue": "invalid syntax (2299982958.py, line 1)",
     "output_type": "error",
     "traceback": [
      "\u001b[0;36m  Cell \u001b[0;32mIn[1], line 1\u001b[0;36m\u001b[0m\n\u001b[0;31m    I have some error here\u001b[0m\n\u001b[0m      ^\u001b[0m\n\u001b[0;31mSyntaxError\u001b[0m\u001b[0;31m:\u001b[0m invalid syntax\n"
     ]
    }
   ],
   "source": [
    "I have some error here"
   ]
  },
  {
   "cell_type": "code",
   "execution_count": 2,
   "id": "23c79e80-4063-471f-adfe-976dcbc78430",
   "metadata": {},
   "outputs": [],
   "source": [
    "test = \" no error \""
   ]
  },
  {
   "cell_type": "code",
   "execution_count": 3,
   "id": "7d183f72-fbc2-4ad3-a8e3-60356ddf4019",
   "metadata": {},
   "outputs": [
    {
     "data": {
      "text/plain": [
       "'Some information on the code here'"
      ]
     },
     "execution_count": 3,
     "metadata": {},
     "output_type": "execute_result"
    }
   ],
   "source": [
    "\"Some information on the code here\""
   ]
  },
  {
   "cell_type": "code",
   "execution_count": 4,
   "id": "5645c998-33f1-421c-b06d-c2a699c3c7bd",
   "metadata": {},
   "outputs": [
    {
     "ename": "SyntaxError",
     "evalue": "invalid syntax (3371616637.py, line 1)",
     "output_type": "error",
     "traceback": [
      "\u001b[0;36m  Cell \u001b[0;32mIn[4], line 1\u001b[0;36m\u001b[0m\n\u001b[0;31m    Another error\u001b[0m\n\u001b[0m            ^\u001b[0m\n\u001b[0;31mSyntaxError\u001b[0m\u001b[0;31m:\u001b[0m invalid syntax\n"
     ]
    }
   ],
   "source": [
    "Another error"
   ]
  },
  {
   "cell_type": "code",
   "execution_count": 5,
   "id": "1286a939-6b6e-4da8-94eb-6206d365586d",
   "metadata": {},
   "outputs": [
    {
     "ename": "SyntaxError",
     "evalue": "unmatched ']' (513592150.py, line 1)",
     "output_type": "error",
     "traceback": [
      "\u001b[0;36m  Cell \u001b[0;32mIn[5], line 1\u001b[0;36m\u001b[0m\n\u001b[0;31m    1 ] 2\u001b[0m\n\u001b[0m      ^\u001b[0m\n\u001b[0;31mSyntaxError\u001b[0m\u001b[0;31m:\u001b[0m unmatched ']'\n"
     ]
    }
   ],
   "source": [
    "1 ] 2"
   ]
  },
  {
   "cell_type": "code",
   "execution_count": 6,
   "id": "975ac229-fc1d-4aa8-a600-48a96e9fc0bf",
   "metadata": {},
   "outputs": [],
   "source": [
    "a = 5"
   ]
  },
  {
   "cell_type": "code",
   "execution_count": 7,
   "id": "2b194f34-6132-46cd-835c-4b7ff6b444cc",
   "metadata": {},
   "outputs": [
    {
     "ename": "TypeError",
     "evalue": "unsupported operand type(s) for +: 'int' and 'str'",
     "output_type": "error",
     "traceback": [
      "\u001b[0;31m---------------------------------------------------------------------------\u001b[0m",
      "\u001b[0;31mTypeError\u001b[0m                                 Traceback (most recent call last)",
      "Cell \u001b[0;32mIn[7], line 1\u001b[0m\n\u001b[0;32m----> 1\u001b[0m a \u001b[38;5;241m+\u001b[39m \u001b[38;5;124m\"\u001b[39m\u001b[38;5;124m5\u001b[39m\u001b[38;5;124m\"\u001b[39m\n",
      "\u001b[0;31mTypeError\u001b[0m: unsupported operand type(s) for +: 'int' and 'str'"
     ]
    }
   ],
   "source": [
    "a + \"5\""
   ]
  },
  {
   "cell_type": "code",
   "execution_count": 9,
   "id": "4f2029fe-db0d-4f92-9bc8-ebc11eb74704",
   "metadata": {},
   "outputs": [
    {
     "data": {
      "text/plain": [
       "'This code is successful'"
      ]
     },
     "execution_count": 9,
     "metadata": {},
     "output_type": "execute_result"
    }
   ],
   "source": [
    "\"This code is successful\""
   ]
  },
  {
   "cell_type": "code",
   "execution_count": 10,
   "id": "f84c0ea7-c60c-4d48-8d2a-1add96ae05b1",
   "metadata": {},
   "outputs": [
    {
     "data": {
      "text/plain": [
       "'This code is successful'"
      ]
     },
     "execution_count": 10,
     "metadata": {},
     "output_type": "execute_result"
    }
   ],
   "source": [
    "\"This code is successful\"\n"
   ]
  },
  {
   "cell_type": "code",
   "execution_count": 11,
   "id": "6107a6df-11ad-4518-aa4b-c041f7700ac2",
   "metadata": {},
   "outputs": [
    {
     "data": {
      "text/plain": [
       "'This code is successful This code is successful'"
      ]
     },
     "execution_count": 11,
     "metadata": {},
     "output_type": "execute_result"
    }
   ],
   "source": [
    "\"This code is successful This code is successful\""
   ]
  },
  {
   "cell_type": "code",
   "execution_count": 14,
   "id": "1a74fb30-2aec-4a37-b873-e96b229eb994",
   "metadata": {},
   "outputs": [
    {
     "ename": "SyntaxError",
     "evalue": "unterminated string literal (detected at line 1) (2405501291.py, line 1)",
     "output_type": "error",
     "traceback": [
      "\u001b[0;36m  Cell \u001b[0;32mIn[14], line 1\u001b[0;36m\u001b[0m\n\u001b[0;31m    \"Error \" \"Error\u001b[0m\n\u001b[0m             ^\u001b[0m\n\u001b[0;31mSyntaxError\u001b[0m\u001b[0;31m:\u001b[0m unterminated string literal (detected at line 1)\n"
     ]
    }
   ],
   "source": [
    "\"Error \" \"Error"
   ]
  },
  {
   "cell_type": "code",
   "execution_count": 16,
   "id": "ce466070-cc58-4507-a311-b81f6197a258",
   "metadata": {},
   "outputs": [
    {
     "ename": "NameError",
     "evalue": "name 'lxx' is not defined",
     "output_type": "error",
     "traceback": [
      "\u001b[0;31m---------------------------------------------------------------------------\u001b[0m",
      "\u001b[0;31mNameError\u001b[0m                                 Traceback (most recent call last)",
      "Cell \u001b[0;32mIn[16], line 1\u001b[0m\n\u001b[0;32m----> 1\u001b[0m lxx\n",
      "\u001b[0;31mNameError\u001b[0m: name 'lxx' is not defined"
     ]
    }
   ],
   "source": [
    "lxx"
   ]
  },
  {
   "cell_type": "code",
   "execution_count": 17,
   "id": "daa2b05c-1266-4ffe-add8-ec85ee42cc6c",
   "metadata": {},
   "outputs": [
    {
     "ename": "SyntaxError",
     "evalue": "invalid decimal literal (2988250742.py, line 1)",
     "output_type": "error",
     "traceback": [
      "\u001b[0;36m  Cell \u001b[0;32mIn[17], line 1\u001b[0;36m\u001b[0m\n\u001b[0;31m    12.17am\u001b[0m\n\u001b[0m        ^\u001b[0m\n\u001b[0;31mSyntaxError\u001b[0m\u001b[0;31m:\u001b[0m invalid decimal literal\n"
     ]
    }
   ],
   "source": [
    "12.17am"
   ]
  },
  {
   "cell_type": "code",
   "execution_count": 18,
   "id": "0f2665da-068f-44e0-99d0-c02b2b4efca9",
   "metadata": {},
   "outputs": [
    {
     "ename": "NameError",
     "evalue": "name 'testing' is not defined",
     "output_type": "error",
     "traceback": [
      "\u001b[0;31m---------------------------------------------------------------------------\u001b[0m",
      "\u001b[0;31mNameError\u001b[0m                                 Traceback (most recent call last)",
      "Cell \u001b[0;32mIn[18], line 1\u001b[0m\n\u001b[0;32m----> 1\u001b[0m testing\n",
      "\u001b[0;31mNameError\u001b[0m: name 'testing' is not defined"
     ]
    }
   ],
   "source": [
    "testing"
   ]
  },
  {
   "cell_type": "code",
   "execution_count": 19,
   "id": "c742da91-2a41-44ac-894c-a8fc6ec500c0",
   "metadata": {},
   "outputs": [
    {
     "data": {
      "text/plain": [
       "'PIPELINE'"
      ]
     },
     "execution_count": 19,
     "metadata": {},
     "output_type": "execute_result"
    }
   ],
   "source": [
    "\"PIPELINE\""
   ]
  },
  {
   "cell_type": "code",
   "execution_count": 20,
   "id": "a994576a-8b0a-40c6-8818-a8d229441c81",
   "metadata": {},
   "outputs": [
    {
     "data": {
      "text/plain": [
       "12.52"
      ]
     },
     "execution_count": 20,
     "metadata": {},
     "output_type": "execute_result"
    }
   ],
   "source": [
    "12.52"
   ]
  },
  {
   "cell_type": "code",
   "execution_count": null,
   "id": "0ddbb50d",
   "metadata": {},
   "outputs": [],
   "source": [
    "import json\n",
    "import time\n",
    "with open(\"./recordings/av_output/av_timestamps\", \"a+\") as json_av:\n",
    "            try:\n",
    "                # JSON file is not empty\n",
    "                av_timestamps = json.load(json_av)\n",
    "            except Exception as e:\n",
    "                # JSON file is empty\n",
    "                av_timestamps = {} # Creates empty dict\n",
    "                print(e)\n",
    "        \n",
    "        unix_time = time.time() # Save timestamp of video to track\n",
    "        print(av_timestamps)\n",
    "        av_timestamps[av_name] = str(unix_time)\n",
    "        print(av_timestamps)\n"
   ]
  }
 ],
 "metadata": {
  "kernelspec": {
   "display_name": "Python 3 (ipykernel)",
   "language": "python",
   "name": "python3"
  },
  "language_info": {
   "codemirror_mode": {
    "name": "ipython",
    "version": 3
   },
   "file_extension": ".py",
   "mimetype": "text/x-python",
   "name": "python",
   "nbconvert_exporter": "python",
   "pygments_lexer": "ipython3",
   "version": "3.11.8"
  }
 },
 "nbformat": 4,
 "nbformat_minor": 5
}
