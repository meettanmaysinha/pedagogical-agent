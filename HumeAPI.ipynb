{
 "cells": [
  {
   "cell_type": "code",
   "execution_count": 5,
   "metadata": {},
   "outputs": [],
   "source": [
    "import asyncio\n",
    "from hume import HumeStreamClient\n",
    "from hume.models.config import LanguageConfig"
   ]
  },
  {
   "cell_type": "code",
   "execution_count": 6,
   "metadata": {},
   "outputs": [],
   "source": [
    "samples = [\n",
    "    \"Mary had a little lamb\",\n",
    "    \"Everywhere the child went\",\n",
    "    \"The little lamb was sure to go\"\n",
    "]"
   ]
  },
  {
   "cell_type": "code",
   "execution_count": 7,
   "metadata": {},
   "outputs": [],
   "source": [
    "API_KEY = \"lfPNP8UacszfWWGONuZcJByhwVo8mHSpQlN4AvLzJe8OiTNe\""
   ]
  },
  {
   "cell_type": "code",
   "execution_count": 10,
   "metadata": {},
   "outputs": [],
   "source": [
    "async def main():\n",
    "    client = HumeStreamClient(API_KEY)\n",
    "    config = LanguageConfig()\n",
    "    async with client.connect([config]) as socket:\n",
    "        for sample in samples:\n",
    "            result = await socket.send_text(sample)\n",
    "            emotions = result['language']['predictions'][0]['emotions']\n",
    "            print(emotions, \"\\n\")\n",
    "\n"
   ]
  },
  {
   "cell_type": "code",
   "execution_count": 9,
   "metadata": {},
   "outputs": [
    {
     "name": "stdout",
     "output_type": "stream",
     "text": [
      "[{'name': 'Admiration', 'score': 0.0637923926115036}, {'name': 'Adoration', 'score': 0.07222925871610641}, {'name': 'Aesthetic Appreciation', 'score': 0.028084464371204376}, {'name': 'Amusement', 'score': 0.027589017525315285}, {'name': 'Anger', 'score': 0.012025930918753147}, {'name': 'Annoyance', 'score': 0.025653138756752014}, {'name': 'Anxiety', 'score': 0.004923961125314236}, {'name': 'Awe', 'score': 0.025031331926584244}, {'name': 'Awkwardness', 'score': 0.0613851435482502}, {'name': 'Boredom', 'score': 0.05333971232175827}, {'name': 'Calmness', 'score': 0.13555721938610077}, {'name': 'Concentration', 'score': 0.010018940083682537}, {'name': 'Confusion', 'score': 0.09115112572908401}, {'name': 'Contemplation', 'score': 0.020809857174754143}, {'name': 'Contempt', 'score': 0.030744818970561028}, {'name': 'Contentment', 'score': 0.06075146421790123}, {'name': 'Craving', 'score': 0.008604105561971664}, {'name': 'Determination', 'score': 0.010685051791369915}, {'name': 'Disappointment', 'score': 0.032980386167764664}, {'name': 'Disapproval', 'score': 0.022201286628842354}, {'name': 'Disgust', 'score': 0.010582842864096165}, {'name': 'Distress', 'score': 0.011886990629136562}, {'name': 'Doubt', 'score': 0.01733436994254589}, {'name': 'Ecstasy', 'score': 0.014498898759484291}, {'name': 'Embarrassment', 'score': 0.01016779150813818}, {'name': 'Empathic Pain', 'score': 0.02017657272517681}, {'name': 'Enthusiasm', 'score': 0.02454438991844654}, {'name': 'Entrancement', 'score': 0.031809959560632706}, {'name': 'Envy', 'score': 0.0078100417740643024}, {'name': 'Excitement', 'score': 0.01086737122386694}, {'name': 'Fear', 'score': 0.002841347362846136}, {'name': 'Gratitude', 'score': 0.012725907377898693}, {'name': 'Guilt', 'score': 0.005438251420855522}, {'name': 'Horror', 'score': 0.002461818279698491}, {'name': 'Interest', 'score': 0.06195246800780296}, {'name': 'Joy', 'score': 0.056471507996320724}, {'name': 'Love', 'score': 0.14727133512496948}, {'name': 'Nostalgia', 'score': 0.010130167007446289}, {'name': 'Pain', 'score': 0.020555708557367325}, {'name': 'Pride', 'score': 0.01391206681728363}, {'name': 'Realization', 'score': 0.021947279572486877}, {'name': 'Relief', 'score': 0.006897658109664917}, {'name': 'Romance', 'score': 0.09956827759742737}, {'name': 'Sadness', 'score': 0.031556881964206696}, {'name': 'Sarcasm', 'score': 0.029119888320565224}, {'name': 'Satisfaction', 'score': 0.033898692578077316}, {'name': 'Desire', 'score': 0.08503224700689316}, {'name': 'Shame', 'score': 0.019161522388458252}, {'name': 'Surprise (negative)', 'score': 0.04795696586370468}, {'name': 'Surprise (positive)', 'score': 0.030542362481355667}, {'name': 'Sympathy', 'score': 0.032461315393447876}, {'name': 'Tiredness', 'score': 0.036062467843294144}, {'name': 'Triumph', 'score': 0.01235896535217762}]\n",
      "[{'name': 'Admiration', 'score': 0.01617632433772087}, {'name': 'Adoration', 'score': 0.005841363221406937}, {'name': 'Aesthetic Appreciation', 'score': 0.004063755739480257}, {'name': 'Amusement', 'score': 0.01206353772431612}, {'name': 'Anger', 'score': 0.013760190457105637}, {'name': 'Annoyance', 'score': 0.09799781441688538}, {'name': 'Anxiety', 'score': 0.010160231962800026}, {'name': 'Awe', 'score': 0.014514473266899586}, {'name': 'Awkwardness', 'score': 0.03619224578142166}, {'name': 'Boredom', 'score': 0.03041611984372139}, {'name': 'Calmness', 'score': 0.10694552212953568}, {'name': 'Concentration', 'score': 0.03523920103907585}, {'name': 'Confusion', 'score': 0.31559059023857117}, {'name': 'Contemplation', 'score': 0.14778070151805878}, {'name': 'Contempt', 'score': 0.04738108813762665}, {'name': 'Contentment', 'score': 0.02810528874397278}, {'name': 'Craving', 'score': 0.0031523513607680798}, {'name': 'Determination', 'score': 0.02935177832841873}, {'name': 'Disappointment', 'score': 0.02408668026328087}, {'name': 'Disapproval', 'score': 0.0255086962133646}, {'name': 'Disgust', 'score': 0.002660788595676422}, {'name': 'Distress', 'score': 0.006758148316293955}, {'name': 'Doubt', 'score': 0.12466158717870712}, {'name': 'Ecstasy', 'score': 0.0013067832915112376}, {'name': 'Embarrassment', 'score': 0.003349937731400132}, {'name': 'Empathic Pain', 'score': 0.0024227635003626347}, {'name': 'Enthusiasm', 'score': 0.019169965758919716}, {'name': 'Entrancement', 'score': 0.010359778068959713}, {'name': 'Envy', 'score': 0.008623356930911541}, {'name': 'Excitement', 'score': 0.010166806168854237}, {'name': 'Fear', 'score': 0.0031698672100901604}, {'name': 'Gratitude', 'score': 0.01233996544033289}, {'name': 'Guilt', 'score': 0.0020024224650114775}, {'name': 'Horror', 'score': 0.0003718468942679465}, {'name': 'Interest', 'score': 0.07063470780849457}, {'name': 'Joy', 'score': 0.009798739105463028}, {'name': 'Love', 'score': 0.0032604036387056112}, {'name': 'Nostalgia', 'score': 0.0026105595752596855}, {'name': 'Pain', 'score': 0.0015414211666211486}, {'name': 'Pride', 'score': 0.01331859640777111}, {'name': 'Realization', 'score': 0.1604621410369873}, {'name': 'Relief', 'score': 0.009618693962693214}, {'name': 'Romance', 'score': 0.0021944025065749884}, {'name': 'Sadness', 'score': 0.0042649381794035435}, {'name': 'Sarcasm', 'score': 0.08133572340011597}, {'name': 'Satisfaction', 'score': 0.02599608153104782}, {'name': 'Desire', 'score': 0.0010478539625182748}, {'name': 'Shame', 'score': 0.005177586805075407}, {'name': 'Surprise (negative)', 'score': 0.036116424947977066}, {'name': 'Surprise (positive)', 'score': 0.05672847852110863}, {'name': 'Sympathy', 'score': 0.004117530770599842}, {'name': 'Tiredness', 'score': 0.010603739880025387}, {'name': 'Triumph', 'score': 0.01775137335062027}]\n",
      "[{'name': 'Admiration', 'score': 0.016970455646514893}, {'name': 'Adoration', 'score': 0.005523955915123224}, {'name': 'Aesthetic Appreciation', 'score': 0.029092414304614067}, {'name': 'Amusement', 'score': 0.01289752684533596}, {'name': 'Anger', 'score': 0.0023396227043122053}, {'name': 'Annoyance', 'score': 0.033018119633197784}, {'name': 'Anxiety', 'score': 0.018380004912614822}, {'name': 'Awe', 'score': 0.016796546056866646}, {'name': 'Awkwardness', 'score': 0.029170433059334755}, {'name': 'Boredom', 'score': 0.09323368221521378}, {'name': 'Calmness', 'score': 0.1260739266872406}, {'name': 'Concentration', 'score': 0.044156935065984726}, {'name': 'Confusion', 'score': 0.12220467627048492}, {'name': 'Contemplation', 'score': 0.0774826854467392}, {'name': 'Contempt', 'score': 0.013317905366420746}, {'name': 'Contentment', 'score': 0.0677824541926384}, {'name': 'Craving', 'score': 0.002055190969258547}, {'name': 'Determination', 'score': 0.014018875546753407}, {'name': 'Disappointment', 'score': 0.0332561619579792}, {'name': 'Disapproval', 'score': 0.012804117985069752}, {'name': 'Disgust', 'score': 0.0027360033709555864}, {'name': 'Distress', 'score': 0.017707617953419685}, {'name': 'Doubt', 'score': 0.030682723969221115}, {'name': 'Ecstasy', 'score': 0.0048308055847883224}, {'name': 'Embarrassment', 'score': 0.006507242098450661}, {'name': 'Empathic Pain', 'score': 0.00504228426143527}, {'name': 'Enthusiasm', 'score': 0.02347138337790966}, {'name': 'Entrancement', 'score': 0.016530858352780342}, {'name': 'Envy', 'score': 0.001883030403405428}, {'name': 'Excitement', 'score': 0.015434619039297104}, {'name': 'Fear', 'score': 0.006416801828891039}, {'name': 'Gratitude', 'score': 0.010292822495102882}, {'name': 'Guilt', 'score': 0.0019470136612653732}, {'name': 'Horror', 'score': 0.0014417399652302265}, {'name': 'Interest', 'score': 0.04900531470775604}, {'name': 'Joy', 'score': 0.01329776644706726}, {'name': 'Love', 'score': 0.003031341591849923}, {'name': 'Nostalgia', 'score': 0.007333658169955015}, {'name': 'Pain', 'score': 0.008094833232462406}, {'name': 'Pride', 'score': 0.012297051027417183}, {'name': 'Realization', 'score': 0.1387982964515686}, {'name': 'Relief', 'score': 0.0401938296854496}, {'name': 'Romance', 'score': 0.0014898711815476418}, {'name': 'Sadness', 'score': 0.013598033227026463}, {'name': 'Sarcasm', 'score': 0.01047870796173811}, {'name': 'Satisfaction', 'score': 0.06976743042469025}, {'name': 'Desire', 'score': 0.0020953137427568436}, {'name': 'Shame', 'score': 0.007278376258909702}, {'name': 'Surprise (negative)', 'score': 0.044054195284843445}, {'name': 'Surprise (positive)', 'score': 0.05965827777981758}, {'name': 'Sympathy', 'score': 0.005536620505154133}, {'name': 'Tiredness', 'score': 0.05031086876988411}, {'name': 'Triumph', 'score': 0.028072316199541092}]\n",
      "[{'name': 'Admiration', 'score': 0.024263756349682808}, {'name': 'Adoration', 'score': 0.008893379010260105}, {'name': 'Aesthetic Appreciation', 'score': 0.060013625770807266}, {'name': 'Amusement', 'score': 0.020187053829431534}, {'name': 'Anger', 'score': 0.0018757039215415716}, {'name': 'Annoyance', 'score': 0.013199103064835072}, {'name': 'Anxiety', 'score': 0.004857673775404692}, {'name': 'Awe', 'score': 0.017287516966462135}, {'name': 'Awkwardness', 'score': 0.03152329847216606}, {'name': 'Boredom', 'score': 0.059299834072589874}, {'name': 'Calmness', 'score': 0.12637409567832947}, {'name': 'Concentration', 'score': 0.06531296670436859}, {'name': 'Confusion', 'score': 0.3616469204425812}, {'name': 'Contemplation', 'score': 0.10656411200761795}, {'name': 'Contempt', 'score': 0.017246708273887634}, {'name': 'Contentment', 'score': 0.03138267248868942}, {'name': 'Craving', 'score': 0.003741880878806114}, {'name': 'Determination', 'score': 0.008809419348835945}, {'name': 'Disappointment', 'score': 0.008623233065009117}, {'name': 'Disapproval', 'score': 0.00948786549270153}, {'name': 'Disgust', 'score': 0.0027794605121016502}, {'name': 'Distress', 'score': 0.004138515796512365}, {'name': 'Doubt', 'score': 0.04364926740527153}, {'name': 'Ecstasy', 'score': 0.004563972819596529}, {'name': 'Embarrassment', 'score': 0.0028473034035414457}, {'name': 'Empathic Pain', 'score': 0.004096681252121925}, {'name': 'Enthusiasm', 'score': 0.014226766303181648}, {'name': 'Entrancement', 'score': 0.03139493614435196}, {'name': 'Envy', 'score': 0.003154405392706394}, {'name': 'Excitement', 'score': 0.007098196540027857}, {'name': 'Fear', 'score': 0.0029603377915918827}, {'name': 'Gratitude', 'score': 0.006275747902691364}, {'name': 'Guilt', 'score': 0.0007365813362412155}, {'name': 'Horror', 'score': 0.0014934302307665348}, {'name': 'Interest', 'score': 0.1591702401638031}, {'name': 'Joy', 'score': 0.012190716341137886}, {'name': 'Love', 'score': 0.005737076047807932}, {'name': 'Nostalgia', 'score': 0.008588070049881935}, {'name': 'Pain', 'score': 0.002629645401611924}, {'name': 'Pride', 'score': 0.005111983045935631}, {'name': 'Realization', 'score': 0.042914945632219315}, {'name': 'Relief', 'score': 0.0061916811391711235}, {'name': 'Romance', 'score': 0.0062073818407952785}, {'name': 'Sadness', 'score': 0.0033864302095025778}, {'name': 'Sarcasm', 'score': 0.019838327541947365}, {'name': 'Satisfaction', 'score': 0.028910934925079346}, {'name': 'Desire', 'score': 0.00920683890581131}, {'name': 'Shame', 'score': 0.0033922481816262007}, {'name': 'Surprise (negative)', 'score': 0.025481460615992546}, {'name': 'Surprise (positive)', 'score': 0.03454850986599922}, {'name': 'Sympathy', 'score': 0.0064297267235815525}, {'name': 'Tiredness', 'score': 0.011153287254273891}, {'name': 'Triumph', 'score': 0.010107741691172123}]\n"
     ]
    },
    {
     "name": "stderr",
     "output_type": "stream",
     "text": [
      "/var/folders/jv/jnnj5zhn3rj37w98pw5v7rjm0000gn/T/ipykernel_26545/3174761923.py:4: RuntimeWarning: coroutine 'main' was never awaited\n",
      "  await main()\n",
      "RuntimeWarning: Enable tracemalloc to get the object allocation traceback\n"
     ]
    }
   ],
   "source": [
    "try:\n",
    "    asyncio.run(main())\n",
    "except:\n",
    "    await main()"
   ]
  },
  {
   "cell_type": "code",
   "execution_count": null,
   "metadata": {},
   "outputs": [],
   "source": []
  }
 ],
 "metadata": {
  "interpreter": {
   "hash": "ed02e7ed1bcaafa023c8ced15e1c3f90199bcc3a9707a8840dd89eccd8f16002"
  },
  "kernelspec": {
   "display_name": "Python 3.9.12 ('base')",
   "language": "python",
   "name": "python3"
  },
  "language_info": {
   "codemirror_mode": {
    "name": "ipython",
    "version": 3
   },
   "file_extension": ".py",
   "mimetype": "text/x-python",
   "name": "python",
   "nbconvert_exporter": "python",
   "pygments_lexer": "ipython3",
   "version": "3.9.12"
  },
  "orig_nbformat": 4
 },
 "nbformat": 4,
 "nbformat_minor": 2
}
